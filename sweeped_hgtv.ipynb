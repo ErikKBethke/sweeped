{
 "cells": [
  {
   "cell_type": "markdown",
   "metadata": {},
   "source": [
    "## inputs"
   ]
  },
  {
   "cell_type": "markdown",
   "metadata": {},
   "source": [
    "* need to download compatible chrome driver for selenium: https://chromedriver.chromium.org/downloads\n",
    "* also may need to permit usage in System Prefs for the first use"
   ]
  },
  {
   "cell_type": "code",
   "execution_count": 193,
   "metadata": {},
   "outputs": [],
   "source": [
    "# set driver location\n",
    "chromedriver_location = \"/Users/erik.bethke1/Python Projects/Sweepstakes/chromedriver\"\n",
    "\n",
    "# personal inputs\n",
    "email_in = \"erik.k.bethke@gmail.com\" # string\n",
    "first_name = 'Erik' # string\n",
    "last_name = 'Bethke' # string\n",
    "address_1 = '175 Orchard ST APT 5D' # string\n",
    "address_city = 'New York' # string no abbrev\n",
    "address_state = 'New York' # string\n",
    "address_zip = '10002' # string\n",
    "phone = '2245784951' # string\n",
    "gender = 'M' # must be in M/F/O/P for: Male/Female/Other/Prefer Not to Say\n",
    "dob_m = 'February' # must be in string format (not int)\n",
    "dob_day = '27'\n",
    "dob_year = '1993'\n",
    "mvpd = 'Netflix' # I leave it as Netflix but can be modified to any vals in the list"
   ]
  },
  {
   "cell_type": "markdown",
   "metadata": {},
   "source": [
    "## code"
   ]
  },
  {
   "cell_type": "code",
   "execution_count": 143,
   "metadata": {},
   "outputs": [],
   "source": [
    "# need to install selenium if not already installed\n",
    "from selenium import webdriver\n",
    "from selenium.webdriver.support.ui import WebDriverWait\n",
    "from selenium.webdriver.support import expected_conditions as EC\n",
    "from selenium.webdriver.common.by import By\n",
    "from time import sleep"
   ]
  },
  {
   "cell_type": "code",
   "execution_count": 194,
   "metadata": {},
   "outputs": [],
   "source": [
    "# list of paths\n",
    "xpaths = ['//*[@id=\"name_Firstname\"]',\n",
    "          '//*[@id=\"name_Lastname\"]',\n",
    "          '//*[@id=\"address_Address1\"]',\n",
    "          '//*[@id=\"address_City\"]',\n",
    "          '//*[@id=\"address_State\"]',\n",
    "          '//*[@id=\"address_Zip\"]',\n",
    "          '//*[@id=\"phone\"]',\n",
    "          '//*[@id=\"date_of_birth_month\"]',\n",
    "          '//*[@id=\"date_of_birth_day\"]',\n",
    "          '//*[@id=\"date_of_birth_year\"]',\n",
    "          '//*[@id=\"mvpd\"]'\n",
    "         ]\n",
    "# values associated with those paths\n",
    "xpath_vals = [first_name, last_name, address_1, address_city, address_state, address_zip, phone, dob_m, dob_day, dob_year, mvpd]"
   ]
  },
  {
   "cell_type": "code",
   "execution_count": 198,
   "metadata": {},
   "outputs": [],
   "source": [
    "driver = webdriver.Chrome(chromedriver_location)\n",
    "# dictionary of webframe/iframe to iterate over\n",
    "webframes = {\"https://www.hgtv.com/sweepstakes/hgtv-smart-home/sweepstakes\" : '//*[@id=\"ngxFrame171583\"]',\n",
    "           \"https://www.diynetwork.com/hgtv-smart-home?ocid=direct\": '//*[@id=\"ngxFrame171589\"]'}\n",
    "for webpage in webframes:\n",
    "    # set driver\n",
    "    driver.get(webpage)\n",
    "    sleep(3) # sleep for page to load to avoid errors\n",
    "    # email entry page\n",
    "    # wait, then switch to iframe\n",
    "    WebDriverWait(driver, 20).until(EC.frame_to_be_available_and_switch_to_it((By.XPATH,webframes.get(webpage))))\n",
    "    # wait, then send email_in to input\n",
    "    WebDriverWait(driver,20).until(EC.presence_of_element_located((By.XPATH, '//*[@id=\"xReturningUserEmail\"]'))).send_keys(email_in)\n",
    "    # click the \"begin entry\" button\n",
    "\n",
    "\n",
    "\n",
    "    WebDriverWait(driver,20).until(EC.presence_of_element_located((By.XPATH, '//*[@id=\"xCheckUser\"]'))).click()\n",
    "    #driver.find_element_by_xpath('//*[@id=\"xCheckUser\"]').click()\n",
    "    try:\n",
    "        \n",
    "        # rest of info page\n",
    "        # wait until the form reloads with the new contents\n",
    "        WebDriverWait(driver,5).until(EC.element_to_be_clickable((By.XPATH, '//*[@id=\"xSubmitContainer\"]')))\n",
    "\n",
    "        # for all non-radio/checkbox\n",
    "        for xpath, val in zip(xpaths, xpath_vals):\n",
    "            driver.find_element_by_xpath(xpath).send_keys(val)\n",
    "\n",
    "        # for radio buttons\n",
    "        # gender\n",
    "        if gender == 'M':\n",
    "            driver.find_element_by_xpath('//*[@id=\"gender_1\"]').click()\n",
    "        elif gender == 'F':\n",
    "            driver.find_element_by_xpath('//*[@id=\"gender_0\"]').click()\n",
    "        elif gender == 'O':\n",
    "            driver.find_element_by_xpath('//*[@id=\"gender_2\"]').click()\n",
    "        else: # safe bet for prefer not to say to catch issues\n",
    "            driver.find_element_by_xpath('//*[@id=\"gender_3\"]').click()\n",
    "\n",
    "        # submit entry   \n",
    "        WebDriverWait(driver,20).until(EC.presence_of_element_located((By.XPATH, '//*[@id=\"xSubmitContainer\"]'))).click()\n",
    "        sleep(2)\n",
    "    except:\n",
    "        pass"
   ]
  },
  {
   "cell_type": "code",
   "execution_count": null,
   "metadata": {},
   "outputs": [],
   "source": []
  }
 ],
 "metadata": {
  "kernelspec": {
   "display_name": "Python 3",
   "language": "python",
   "name": "python3"
  },
  "language_info": {
   "codemirror_mode": {
    "name": "ipython",
    "version": 3
   },
   "file_extension": ".py",
   "mimetype": "text/x-python",
   "name": "python",
   "nbconvert_exporter": "python",
   "pygments_lexer": "ipython3",
   "version": "3.7.6"
  }
 },
 "nbformat": 4,
 "nbformat_minor": 4
}
